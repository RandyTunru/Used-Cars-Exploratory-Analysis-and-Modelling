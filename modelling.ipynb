{
 "cells": [
  {
   "cell_type": "code",
   "execution_count": 3,
   "id": "464414a0",
   "metadata": {},
   "outputs": [],
   "source": [
    "import numpy as np\n",
    "import pandas as pd"
   ]
  },
  {
   "cell_type": "code",
   "execution_count": 4,
   "id": "74a16097",
   "metadata": {},
   "outputs": [],
   "source": [
    "cleaned_data = pd.read_csv('dataset/used_cars_cleaned.csv')"
   ]
  },
  {
   "cell_type": "code",
   "execution_count": 5,
   "id": "db385770",
   "metadata": {},
   "outputs": [
    {
     "data": {
      "text/html": [
       "<div>\n",
       "<style scoped>\n",
       "    .dataframe tbody tr th:only-of-type {\n",
       "        vertical-align: middle;\n",
       "    }\n",
       "\n",
       "    .dataframe tbody tr th {\n",
       "        vertical-align: top;\n",
       "    }\n",
       "\n",
       "    .dataframe thead th {\n",
       "        text-align: right;\n",
       "    }\n",
       "</style>\n",
       "<table border=\"1\" class=\"dataframe\">\n",
       "  <thead>\n",
       "    <tr style=\"text-align: right;\">\n",
       "      <th></th>\n",
       "      <th>region</th>\n",
       "      <th>price</th>\n",
       "      <th>year</th>\n",
       "      <th>manufacturer</th>\n",
       "      <th>model</th>\n",
       "      <th>condition</th>\n",
       "      <th>cylinders</th>\n",
       "      <th>fuel</th>\n",
       "      <th>odometer</th>\n",
       "      <th>title_status</th>\n",
       "      <th>...</th>\n",
       "      <th>drive</th>\n",
       "      <th>size</th>\n",
       "      <th>type</th>\n",
       "      <th>paint_color</th>\n",
       "      <th>description</th>\n",
       "      <th>state</th>\n",
       "      <th>lat</th>\n",
       "      <th>long</th>\n",
       "      <th>is_condition_imputed</th>\n",
       "      <th>is_title_status_imputed</th>\n",
       "    </tr>\n",
       "  </thead>\n",
       "  <tbody>\n",
       "    <tr>\n",
       "      <th>0</th>\n",
       "      <td>auburn</td>\n",
       "      <td>33590</td>\n",
       "      <td>2014</td>\n",
       "      <td>gmc</td>\n",
       "      <td>sierra 1500 crew cab slt</td>\n",
       "      <td>good</td>\n",
       "      <td>8 cylinders</td>\n",
       "      <td>gas</td>\n",
       "      <td>57923.0</td>\n",
       "      <td>clean</td>\n",
       "      <td>...</td>\n",
       "      <td>4wd</td>\n",
       "      <td>unspecified</td>\n",
       "      <td>pickup</td>\n",
       "      <td>white</td>\n",
       "      <td>Carvana is the safer way to buy a car During t...</td>\n",
       "      <td>al</td>\n",
       "      <td>32.590</td>\n",
       "      <td>-85.4800</td>\n",
       "      <td>False</td>\n",
       "      <td>False</td>\n",
       "    </tr>\n",
       "    <tr>\n",
       "      <th>1</th>\n",
       "      <td>auburn</td>\n",
       "      <td>22590</td>\n",
       "      <td>2010</td>\n",
       "      <td>chevrolet</td>\n",
       "      <td>silverado 1500</td>\n",
       "      <td>good</td>\n",
       "      <td>8 cylinders</td>\n",
       "      <td>gas</td>\n",
       "      <td>71229.0</td>\n",
       "      <td>clean</td>\n",
       "      <td>...</td>\n",
       "      <td>4wd</td>\n",
       "      <td>full-size</td>\n",
       "      <td>pickup</td>\n",
       "      <td>blue</td>\n",
       "      <td>Carvana is the safer way to buy a car During t...</td>\n",
       "      <td>al</td>\n",
       "      <td>32.590</td>\n",
       "      <td>-85.4800</td>\n",
       "      <td>False</td>\n",
       "      <td>False</td>\n",
       "    </tr>\n",
       "    <tr>\n",
       "      <th>2</th>\n",
       "      <td>auburn</td>\n",
       "      <td>39590</td>\n",
       "      <td>2020</td>\n",
       "      <td>chevrolet</td>\n",
       "      <td>silverado 1500 crew</td>\n",
       "      <td>good</td>\n",
       "      <td>8 cylinders</td>\n",
       "      <td>gas</td>\n",
       "      <td>19160.0</td>\n",
       "      <td>clean</td>\n",
       "      <td>...</td>\n",
       "      <td>4wd</td>\n",
       "      <td>unspecified</td>\n",
       "      <td>pickup</td>\n",
       "      <td>red</td>\n",
       "      <td>Carvana is the safer way to buy a car During t...</td>\n",
       "      <td>al</td>\n",
       "      <td>32.590</td>\n",
       "      <td>-85.4800</td>\n",
       "      <td>False</td>\n",
       "      <td>False</td>\n",
       "    </tr>\n",
       "    <tr>\n",
       "      <th>3</th>\n",
       "      <td>auburn</td>\n",
       "      <td>30990</td>\n",
       "      <td>2017</td>\n",
       "      <td>toyota</td>\n",
       "      <td>tundra double cab sr</td>\n",
       "      <td>good</td>\n",
       "      <td>8 cylinders</td>\n",
       "      <td>gas</td>\n",
       "      <td>41124.0</td>\n",
       "      <td>clean</td>\n",
       "      <td>...</td>\n",
       "      <td>4wd</td>\n",
       "      <td>full-size</td>\n",
       "      <td>pickup</td>\n",
       "      <td>red</td>\n",
       "      <td>Carvana is the safer way to buy a car During t...</td>\n",
       "      <td>al</td>\n",
       "      <td>32.590</td>\n",
       "      <td>-85.4800</td>\n",
       "      <td>False</td>\n",
       "      <td>False</td>\n",
       "    </tr>\n",
       "    <tr>\n",
       "      <th>4</th>\n",
       "      <td>auburn</td>\n",
       "      <td>15000</td>\n",
       "      <td>2013</td>\n",
       "      <td>ford</td>\n",
       "      <td>f-150 xlt</td>\n",
       "      <td>excellent</td>\n",
       "      <td>6 cylinders</td>\n",
       "      <td>gas</td>\n",
       "      <td>128000.0</td>\n",
       "      <td>clean</td>\n",
       "      <td>...</td>\n",
       "      <td>rwd</td>\n",
       "      <td>full-size</td>\n",
       "      <td>truck</td>\n",
       "      <td>black</td>\n",
       "      <td>2013 F-150 XLT V6 4 Door. Good condition. Leve...</td>\n",
       "      <td>al</td>\n",
       "      <td>32.592</td>\n",
       "      <td>-85.5189</td>\n",
       "      <td>False</td>\n",
       "      <td>False</td>\n",
       "    </tr>\n",
       "  </tbody>\n",
       "</table>\n",
       "<p>5 rows × 21 columns</p>\n",
       "</div>"
      ],
      "text/plain": [
       "   region  price  year manufacturer                     model  condition  \\\n",
       "0  auburn  33590  2014          gmc  sierra 1500 crew cab slt       good   \n",
       "1  auburn  22590  2010    chevrolet            silverado 1500       good   \n",
       "2  auburn  39590  2020    chevrolet       silverado 1500 crew       good   \n",
       "3  auburn  30990  2017       toyota      tundra double cab sr       good   \n",
       "4  auburn  15000  2013         ford                 f-150 xlt  excellent   \n",
       "\n",
       "     cylinders fuel  odometer title_status  ... drive         size    type  \\\n",
       "0  8 cylinders  gas   57923.0        clean  ...   4wd  unspecified  pickup   \n",
       "1  8 cylinders  gas   71229.0        clean  ...   4wd    full-size  pickup   \n",
       "2  8 cylinders  gas   19160.0        clean  ...   4wd  unspecified  pickup   \n",
       "3  8 cylinders  gas   41124.0        clean  ...   4wd    full-size  pickup   \n",
       "4  6 cylinders  gas  128000.0        clean  ...   rwd    full-size   truck   \n",
       "\n",
       "  paint_color                                        description state  \\\n",
       "0       white  Carvana is the safer way to buy a car During t...    al   \n",
       "1        blue  Carvana is the safer way to buy a car During t...    al   \n",
       "2         red  Carvana is the safer way to buy a car During t...    al   \n",
       "3         red  Carvana is the safer way to buy a car During t...    al   \n",
       "4       black  2013 F-150 XLT V6 4 Door. Good condition. Leve...    al   \n",
       "\n",
       "      lat     long  is_condition_imputed  is_title_status_imputed  \n",
       "0  32.590 -85.4800                 False                    False  \n",
       "1  32.590 -85.4800                 False                    False  \n",
       "2  32.590 -85.4800                 False                    False  \n",
       "3  32.590 -85.4800                 False                    False  \n",
       "4  32.592 -85.5189                 False                    False  \n",
       "\n",
       "[5 rows x 21 columns]"
      ]
     },
     "execution_count": 5,
     "metadata": {},
     "output_type": "execute_result"
    }
   ],
   "source": [
    "cleaned_data.head()"
   ]
  },
  {
   "cell_type": "code",
   "execution_count": 6,
   "id": "4b405174",
   "metadata": {},
   "outputs": [
    {
     "name": "stdout",
     "output_type": "stream",
     "text": [
      "<class 'pandas.core.frame.DataFrame'>\n",
      "RangeIndex: 246680 entries, 0 to 246679\n",
      "Data columns (total 21 columns):\n",
      " #   Column                   Non-Null Count   Dtype  \n",
      "---  ------                   --------------   -----  \n",
      " 0   region                   246680 non-null  object \n",
      " 1   price                    246680 non-null  int64  \n",
      " 2   year                     246680 non-null  int64  \n",
      " 3   manufacturer             246680 non-null  object \n",
      " 4   model                    246680 non-null  object \n",
      " 5   condition                246680 non-null  object \n",
      " 6   cylinders                246680 non-null  object \n",
      " 7   fuel                     246680 non-null  object \n",
      " 8   odometer                 246680 non-null  float64\n",
      " 9   title_status             246680 non-null  object \n",
      " 10  transmission             246680 non-null  object \n",
      " 11  drive                    246680 non-null  object \n",
      " 12  size                     246680 non-null  object \n",
      " 13  type                     246680 non-null  object \n",
      " 14  paint_color              246680 non-null  object \n",
      " 15  description              246678 non-null  object \n",
      " 16  state                    246680 non-null  object \n",
      " 17  lat                      246490 non-null  float64\n",
      " 18  long                     246490 non-null  float64\n",
      " 19  is_condition_imputed     246680 non-null  bool   \n",
      " 20  is_title_status_imputed  246680 non-null  bool   \n",
      "dtypes: bool(2), float64(3), int64(2), object(14)\n",
      "memory usage: 36.2+ MB\n"
     ]
    }
   ],
   "source": [
    "cleaned_data.info()"
   ]
  },
  {
   "cell_type": "markdown",
   "id": "062c0b67",
   "metadata": {},
   "source": [
    "# Feature Engineering"
   ]
  },
  {
   "cell_type": "code",
   "execution_count": 7,
   "id": "b1c99eec",
   "metadata": {},
   "outputs": [],
   "source": [
    "from sklearn.model_selection   import train_test_split\n",
    "from sklearn.pipeline          import Pipeline\n",
    "from sklearn.compose           import ColumnTransformer\n",
    "from sklearn.preprocessing     import (\n",
    "    FunctionTransformer,\n",
    "    StandardScaler,\n",
    "    OneHotEncoder\n",
    ")\n",
    "import category_encoders as ce"
   ]
  },
  {
   "cell_type": "markdown",
   "id": "ea9e7cfb",
   "metadata": {},
   "source": [
    "Let's first drop the features we're not going to use"
   ]
  },
  {
   "cell_type": "code",
   "execution_count": 8,
   "id": "ae41e7c0",
   "metadata": {},
   "outputs": [],
   "source": [
    "drop_features = [\n",
    "    'description', 'lat', 'long'\n",
    "    ]"
   ]
  },
  {
   "cell_type": "code",
   "execution_count": 9,
   "id": "50b05399",
   "metadata": {},
   "outputs": [],
   "source": [
    "modelling_data = cleaned_data.drop(columns=drop_features)"
   ]
  },
  {
   "cell_type": "code",
   "execution_count": 10,
   "id": "c5c4d1d3",
   "metadata": {},
   "outputs": [],
   "source": [
    "binned_cols = [\n",
    "    'state', 'region'\n",
    "]"
   ]
  },
  {
   "cell_type": "code",
   "execution_count": 11,
   "id": "6f529aa4",
   "metadata": {},
   "outputs": [],
   "source": [
    "k = 10  # Number of top categories to display\n",
    "\n",
    "for col in binned_cols:\n",
    "    map = modelling_data[col].value_counts().head(k).index\n",
    "    modelling_data[col] = modelling_data[col].apply(lambda x: x if x in map else 'other')"
   ]
  },
  {
   "cell_type": "markdown",
   "id": "163288c9",
   "metadata": {},
   "source": [
    "## Encoding"
   ]
  },
  {
   "cell_type": "markdown",
   "id": "c697f71e",
   "metadata": {},
   "source": [
    "### Numerical Features"
   ]
  },
  {
   "cell_type": "code",
   "execution_count": 12,
   "id": "a2868dbb",
   "metadata": {},
   "outputs": [],
   "source": [
    "odo_transformers = Pipeline([\n",
    "    ('select', FunctionTransformer(lambda d: d[['odometer']], validate=False)),\n",
    "    ('log',    FunctionTransformer(np.log1p, validate=False)),\n",
    "    ('scale',  StandardScaler())\n",
    "])\n",
    "year_transformer = Pipeline([\n",
    "    ('select',   FunctionTransformer(lambda d: d[['year']], validate=False)),\n",
    "    ('identity', FunctionTransformer(lambda d: d, validate=False)),\n",
    "    ('scale',    StandardScaler())\n",
    "])"
   ]
  },
  {
   "cell_type": "markdown",
   "id": "bd046a19",
   "metadata": {},
   "source": [
    "### Ordinal Categories"
   ]
  },
  {
   "cell_type": "code",
   "execution_count": 13,
   "id": "deacdf70",
   "metadata": {},
   "outputs": [],
   "source": [
    "condition_mapping = {'salvage':0,'fair':1,'good':2,'excellent':3,'like new':4,'new':5}\n",
    "title_mapping     = {'unspecified':-3,'parts only':-2,'missing':-1,'lien':0,'salvage':1,'rebuilt':2,'clean':3}"
   ]
  },
  {
   "cell_type": "code",
   "execution_count": 14,
   "id": "460fd7b2",
   "metadata": {},
   "outputs": [],
   "source": [
    "ord_transformer = Pipeline([\n",
    "    ('select', FunctionTransformer(lambda d: d[['condition','title_status']], validate=False)),\n",
    "    ('map', FunctionTransformer(lambda df: pd.DataFrame({\n",
    "            'condition_ord':    df['condition'].map(condition_mapping),\n",
    "            'title_status_ord': df['title_status'].map(title_mapping)\n",
    "        }), validate=False)),\n",
    "    ('scale', StandardScaler())\n",
    "])"
   ]
  },
  {
   "cell_type": "markdown",
   "id": "90043f1f",
   "metadata": {},
   "source": [
    "### Nominal Categories"
   ]
  },
  {
   "cell_type": "markdown",
   "id": "7b7888ec",
   "metadata": {},
   "source": [
    "For the Low-Cardinality Nominal Categories will be one-hot encoded, we've also binned 'state' and 'region' and will be treated as a low-cardinality category"
   ]
  },
  {
   "cell_type": "code",
   "execution_count": 15,
   "id": "81652f15",
   "metadata": {},
   "outputs": [],
   "source": [
    "nominal_cols = ['region','cylinders','fuel','transmission','drive','size','type','paint_color','state']\n",
    "nom_transformer = Pipeline([\n",
    "    ('select', FunctionTransformer(lambda d: d[nominal_cols], validate=False)),\n",
    "    ('onehot', OneHotEncoder(drop='first', handle_unknown='ignore'))\n",
    "])"
   ]
  },
  {
   "cell_type": "markdown",
   "id": "8f08232d",
   "metadata": {},
   "source": [
    "For High-Cardinality Nominal Categories will be target-mean encoded"
   ]
  },
  {
   "cell_type": "code",
   "execution_count": 16,
   "id": "4ee78df3",
   "metadata": {},
   "outputs": [],
   "source": [
    "manuf_te = ce.TargetEncoder(cols=['manufacturer'])\n",
    "model_te = ce.TargetEncoder(cols=['model'])"
   ]
  },
  {
   "cell_type": "markdown",
   "id": "cfc44cfc",
   "metadata": {},
   "source": [
    "### Flags"
   ]
  },
  {
   "cell_type": "code",
   "execution_count": 17,
   "id": "b946ab00",
   "metadata": {},
   "outputs": [],
   "source": [
    "flag_transformer = Pipeline([\n",
    "    ('select', FunctionTransformer(lambda d: d[['is_condition_imputed','is_title_status_imputed']], validate=False)),\n",
    "    ('to_int',  FunctionTransformer(lambda df: df.astype(int), validate=False))\n",
    "])"
   ]
  },
  {
   "cell_type": "markdown",
   "id": "62b54170",
   "metadata": {},
   "source": [
    "### Column Transformer"
   ]
  },
  {
   "cell_type": "code",
   "execution_count": 18,
   "id": "ddf2a89f",
   "metadata": {},
   "outputs": [],
   "source": [
    "tf = ColumnTransformer([\n",
    "    ('odo',   odo_transformers,   ['odometer']),\n",
    "    ('year',  year_transformer,   ['year']),\n",
    "    ('ord',   ord_transformer,    ['condition','title_status']),\n",
    "    ('manuf', manuf_te,           ['manufacturer']),\n",
    "    ('model', model_te,           ['model']),\n",
    "    ('nom',   nom_transformer,     nominal_cols),\n",
    "    ('flags', flag_transformer,   ['is_condition_imputed','is_title_status_imputed'])\n",
    "])"
   ]
  },
  {
   "cell_type": "markdown",
   "id": "66b28a91",
   "metadata": {},
   "source": [
    "# Model"
   ]
  },
  {
   "cell_type": "markdown",
   "id": "2a7ceec7",
   "metadata": {},
   "source": [
    "## Train-Test Split"
   ]
  },
  {
   "cell_type": "code",
   "execution_count": 19,
   "id": "e73b1ed4",
   "metadata": {},
   "outputs": [],
   "source": [
    "df_features = modelling_data.drop(columns='price')\n",
    "y = modelling_data['price']"
   ]
  },
  {
   "cell_type": "code",
   "execution_count": 20,
   "id": "77d9bcee",
   "metadata": {},
   "outputs": [],
   "source": [
    "X_train, X_test, y_train, y_test = train_test_split(\n",
    "    df_features, y, test_size=0.2, random_state=42\n",
    ")"
   ]
  },
  {
   "cell_type": "markdown",
   "id": "5e036dd5",
   "metadata": {},
   "source": [
    "## Train Process"
   ]
  },
  {
   "cell_type": "code",
   "execution_count": 21,
   "id": "a7d419f4",
   "metadata": {},
   "outputs": [],
   "source": [
    "from sklearn.ensemble import RandomForestRegressor"
   ]
  },
  {
   "cell_type": "code",
   "execution_count": null,
   "id": "a0a00529",
   "metadata": {},
   "outputs": [],
   "source": [
    "pipeline = Pipeline([\n",
    "    ('pre', tf),\n",
    "    ('model', RandomForestRegressor(n_estimators=100, random_state=42, max_features=\"sqrt\", max_depth=20, min_samples_leaf=5))\n",
    "])\n",
    "\n",
    "pipeline.fit(X_train, np.log1p(y_train))"
   ]
  },
  {
   "cell_type": "markdown",
   "id": "4c480518",
   "metadata": {},
   "source": [
    "## Test"
   ]
  },
  {
   "cell_type": "code",
   "execution_count": null,
   "id": "b5db8fe9",
   "metadata": {},
   "outputs": [],
   "source": [
    "from sklearn.metrics import mean_absolute_error, r2_score, root_mean_squared_error"
   ]
  },
  {
   "cell_type": "code",
   "execution_count": null,
   "id": "631b0895",
   "metadata": {},
   "outputs": [],
   "source": [
    "y_pred_log = pipeline.predict(X_test)\n",
    "y_pred     = np.expm1(y_pred_log)"
   ]
  },
  {
   "cell_type": "code",
   "execution_count": null,
   "id": "96e56e7b",
   "metadata": {},
   "outputs": [],
   "source": [
    "r2 = r2_score(y_test, y_pred)\n",
    "rmse = root_mean_squared_error(y_test, y_pred)\n",
    "\n",
    "print(f'R²: {r2:.3f}')\n",
    "print(f'RMSE: {rmse:.3f}')"
   ]
  }
 ],
 "metadata": {
  "kernelspec": {
   "display_name": "project1",
   "language": "python",
   "name": "python3"
  },
  "language_info": {
   "codemirror_mode": {
    "name": "ipython",
    "version": 3
   },
   "file_extension": ".py",
   "mimetype": "text/x-python",
   "name": "python",
   "nbconvert_exporter": "python",
   "pygments_lexer": "ipython3",
   "version": "3.10.18"
  }
 },
 "nbformat": 4,
 "nbformat_minor": 5
}
